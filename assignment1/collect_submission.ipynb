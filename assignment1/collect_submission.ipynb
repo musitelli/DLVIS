{
 "cells": [
  {
   "cell_type": "code",
   "execution_count": 1,
   "id": "81824ab8",
   "metadata": {},
   "outputs": [
    {
     "name": "stdout",
     "output_type": "stream",
     "text": [
      "Not running on CoLab\n"
     ]
    }
   ],
   "source": [
    "import sys\n",
    "\n",
    "if 'google.colab' in sys.modules:\n",
    "    print('Running on CoLab')\n",
    "\n",
    "    from google.colab import drive\n",
    "\n",
    "    drive.mount('/content/drive')\n",
    "\n",
    "    # TODO: Enter the path in your Drive of the assignment.\n",
    "    # e.g. 'cs231n/assignments/assignment1/'\n",
    "    FOLDERNAME = None\n",
    "\n",
    "    assert FOLDERNAME is not None, \"[!] Enter the foldername.\"\n",
    "\n",
    "else:\n",
    "    print('Not running on CoLab')\n",
    "    FOLDERNAME = \"./\""
   ]
  },
  {
   "cell_type": "markdown",
   "id": "6be91a6a",
   "metadata": {},
   "source": [
    "# Collect Submission - Zip + Generate PDF \n",
    "\n",
    "Run this notebook once you have completed all the other notebooks: `knn.ipynb`, `softmax.ipynb`, `two_layer_net.ipynb` and `features.ipynb`.\n",
    "\n",
    "It will:\n",
    "\n",
    "* Generate a zip file of your code (`.py` and `.ipynb`) called `a1_code_submission.zip`.\n",
    "* Convert all notebooks into a single PDF file called `a1_inline_submission.pdf`.\n",
    "\n",
    "If your submission for this step was successful, you should see the following display message:\n",
    "\n",
    "`### Done! Please submit a1_code_submission.zip and a1_inline_submission.pdf to EVA. ###`\n",
    "\n",
    "Make sure to download the zip and pdf file locally to your computer, then submit to Gradescope. Congrats on succesfully completing the assignment!"
   ]
  },
  {
   "cell_type": "code",
   "execution_count": 2,
   "id": "aa146f82",
   "metadata": {},
   "outputs": [
    {
     "name": "stdout",
     "output_type": "stream",
     "text": [
      "Requirement already satisfied: PyPDF2 in /Users/mateo/opt/anaconda3/lib/python3.9/site-packages (3.0.1)\n",
      "Requirement already satisfied: typing_extensions>=3.10.0.0 in /Users/mateo/opt/anaconda3/lib/python3.9/site-packages (from PyPDF2) (4.12.2)\n",
      "### Zipping file ###\n",
      "### Creating PDFs ###\n",
      "Created PDF knn.ipynb.\n",
      "Created PDF softmax.ipynb.\n",
      "Created PDF two_layer_net.ipynb.\n",
      "Created PDF features.ipynb.\n",
      "Traceback (most recent call last):\n",
      "  File \"/Users/mateo/Library/CloudStorage/OneDrive-MusitelliFilm&Digital/04 - FING/DLVIS/E1/assignment1/makepdf.py\", line 45, in <module>\n",
      "    main(args.notebooks, args.pdf_filename)\n",
      "  File \"/Users/mateo/Library/CloudStorage/OneDrive-MusitelliFilm&Digital/04 - FING/DLVIS/E1/assignment1/makepdf.py\", line 31, in main\n",
      "    merger.append(pdf)\n",
      "  File \"/Users/mateo/opt/anaconda3/lib/python3.9/site-packages/PyPDF2/_utils.py\", line 417, in wrapper\n",
      "    return func(*args, **kwargs)\n",
      "  File \"/Users/mateo/opt/anaconda3/lib/python3.9/site-packages/PyPDF2/_merger.py\", line 319, in append\n",
      "    self.merge(len(self.pages), fileobj, outline_item, pages, import_outline)\n",
      "  File \"/Users/mateo/opt/anaconda3/lib/python3.9/site-packages/PyPDF2/_utils.py\", line 417, in wrapper\n",
      "    return func(*args, **kwargs)\n",
      "  File \"/Users/mateo/opt/anaconda3/lib/python3.9/site-packages/PyPDF2/_merger.py\", line 194, in merge\n",
      "    stream, encryption_obj = self._create_stream(fileobj)\n",
      "  File \"/Users/mateo/opt/anaconda3/lib/python3.9/site-packages/PyPDF2/_merger.py\", line 263, in _create_stream\n",
      "    stream = FileIO(fileobj, \"rb\")\n",
      "FileNotFoundError: [Errno 2] No such file or directory: 'knn.pdf'\n"
     ]
    }
   ],
   "source": [
    "if \"google.colab\" in sys.modules:\n",
    "    %cd drive/My\\ Drive\n",
    "    %cd $FOLDERNAME\n",
    "    !sudo apt-get install texlive-xetex texlive-fonts-recommended texlive-plain-generic\n",
    "    !pip install PyPDF2\n",
    "    !bash collectSubmission.sh\n",
    "else:\n",
    "    !pip install PyPDF2\n",
    "    !bash collectSubmission.sh"
   ]
  }
 ],
 "metadata": {
  "kernelspec": {
   "display_name": "Python 3",
   "language": "python",
   "name": "python3"
  },
  "language_info": {
   "codemirror_mode": {
    "name": "ipython",
    "version": 3
   },
   "file_extension": ".py",
   "mimetype": "text/x-python",
   "name": "python",
   "nbconvert_exporter": "python",
   "pygments_lexer": "ipython3",
   "version": "3.9.12"
  }
 },
 "nbformat": 4,
 "nbformat_minor": 5
}
