{
 "cells": [
  {
   "cell_type": "markdown",
   "metadata": {},
   "source": [
    "## fc_net.py"
   ]
  },
  {
   "cell_type": "markdown",
   "metadata": {},
   "source": [
    "Some issues regarding the fully connected, here are some shapes printed as a debugging stage:\n",
    "\n",
    "```python\n",
    "hidden_dims=[20, 30]\n",
    "\n",
    "input_to_layer.shape = (2, 15)\n",
    "W.shape = (15, 20)\n",
    "b.shape = (20,)\n",
    "out_affine.shape = (2, 20)\n",
    "out_relu.shape = (2, 20)\n",
    "\n",
    "input_to_layer.shape = (2, 20)\n",
    "W.shape = (20, 30)\n",
    "b.shape = (30,)\n",
    "out_affine.shape = (2, 30)\n",
    "out_relu.shape = (2, 30)\n",
    "```"
   ]
  },
  {
   "cell_type": "markdown",
   "metadata": {},
   "source": [
    "$$[2,15] \\times [15,20] + [20,] = [2,20] + [20,]$$\n",
    "$$[2,20] \\times [20,30] + [30,] = [2,30] + [30,]$$"
   ]
  },
  {
   "cell_type": "code",
   "execution_count": 4,
   "metadata": {},
   "outputs": [
    {
     "name": "stdout",
     "output_type": "stream",
     "text": [
      "4\n",
      "3\n",
      "2\n",
      "1\n"
     ]
    }
   ],
   "source": [
    "for i in range(5-1,0,-1):\n",
    "    print(i)"
   ]
  },
  {
   "cell_type": "code",
   "execution_count": null,
   "metadata": {},
   "outputs": [],
   "source": []
  }
 ],
 "metadata": {
  "kernelspec": {
   "display_name": "dlvis-env",
   "language": "python",
   "name": "python3"
  },
  "language_info": {
   "codemirror_mode": {
    "name": "ipython",
    "version": 3
   },
   "file_extension": ".py",
   "mimetype": "text/x-python",
   "name": "python",
   "nbconvert_exporter": "python",
   "pygments_lexer": "ipython3",
   "version": "3.10.9"
  }
 },
 "nbformat": 4,
 "nbformat_minor": 2
}
